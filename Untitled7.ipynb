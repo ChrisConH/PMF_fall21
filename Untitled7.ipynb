{
  "nbformat": 4,
  "nbformat_minor": 0,
  "metadata": {
    "colab": {
      "name": "Untitled7.ipynb",
      "provenance": [],
      "authorship_tag": "ABX9TyPeWgFu/9FeaT/N+w6t88Y9",
      "include_colab_link": true
    },
    "kernelspec": {
      "name": "ir",
      "display_name": "R"
    },
    "language_info": {
      "name": "R"
    }
  },
  "cells": [
    {
      "cell_type": "markdown",
      "metadata": {
        "id": "view-in-github",
        "colab_type": "text"
      },
      "source": [
        "<a href=\"https://colab.research.google.com/github/mlozanoqf/PMF_fall21/blob/main/Untitled7.ipynb\" target=\"_parent\"><img src=\"https://colab.research.google.com/assets/colab-badge.svg\" alt=\"Open In Colab\"/></a>"
      ]
    },
    {
      "cell_type": "code",
      "execution_count": null,
      "metadata": {
        "colab": {
          "base_uri": "https://localhost:8080/",
          "height": 35
        },
        "id": "Lq_xoLbJVeGu",
        "outputId": "5648ff0f-29f6-4339-f42f-478998205efd"
      },
      "outputs": [
        {
          "output_type": "display_data",
          "data": {
            "text/plain": [
              "[1] 8"
            ],
            "text/latex": "8",
            "text/markdown": "8",
            "text/html": [
              "8"
            ]
          },
          "metadata": {}
        }
      ],
      "source": [
        "x<-8\n",
        "x"
      ]
    },
    {
      "cell_type": "markdown",
      "source": [
        "⚗:iuhiuhiuhiu\n",
        "# title ⛪\n",
        "---\n",
        "\n",
        "\n",
        "*   Elemento de la lista\n",
        "*   Elemento de la lista\n",
        "\n",
        "\n"
      ],
      "metadata": {
        "id": "3YyaWJSIVqkz"
      }
    },
    {
      "cell_type": "code",
      "source": [
        "Sys.time()"
      ],
      "metadata": {
        "colab": {
          "base_uri": "https://localhost:8080/",
          "height": 35
        },
        "id": "s0aaEZ7YWcJl",
        "outputId": "13818536-b5ef-4bfa-e896-a261aefda645"
      },
      "execution_count": null,
      "outputs": [
        {
          "output_type": "display_data",
          "data": {
            "text/plain": [
              "[1] \"2021-12-29 08:41:24 UTC\""
            ]
          },
          "metadata": {}
        }
      ]
    },
    {
      "cell_type": "code",
      "source": [
        "! pip install nbconvert\n",
        "! conda install -c anaconda nbconvert"
      ],
      "metadata": {
        "id": "GXQB0MQvW7GI",
        "outputId": "c0b47522-d68c-4103-e556-14338ed6c4ea",
        "colab": {
          "base_uri": "https://localhost:8080/",
          "height": 131
        }
      },
      "execution_count": null,
      "outputs": [
        {
          "output_type": "error",
          "ename": "ERROR",
          "evalue": "ignored",
          "traceback": [
            "Error in parse(text = x, srcfile = src): <text>:1:7: unexpected symbol\n1: ! pip install\n          ^\nTraceback:\n"
          ]
        }
      ]
    }
  ]
}